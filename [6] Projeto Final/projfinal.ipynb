{
 "cells": [
  {
   "cell_type": "markdown",
   "metadata": {},
   "source": [
    "ISTEMA ESCOLAR COM POO:\n",
    "\n",
    " * Crie um sistema que inclua:\n",
    " * 1. Classe Aluno (nome, matrícula, notas, curso)\n",
    " *    - Métodos: calcularMedia(), adicionarNota()\n",
    " * \n",
    " * 2. Classe Professor (nome, departamento, disciplinas)\n",
    " *    - Métodos: atribuirDisciplina(), listarTurmas()\n",
    " * \n",
    " * 3. Classe Disciplina (nome, código, alunosMatriculados)\n",
    " *    - Métodos: matricularAluno(), gerarBoletim()\n",
    " * \n",
    " * 4. Classe Escola (nome, listaAlunos, listaProfessores)\n",
    " *    - Métodos: matricularAluno(), contratarProfessor(), gerarRelatorio()\n",
    "\n",
    "Implemente interações entre todas as classes e um menu básico no console\n",
    "para testar todas as funcionalidades."
   ]
  }
 ],
 "metadata": {
  "language_info": {
   "name": "python"
  }
 },
 "nbformat": 4,
 "nbformat_minor": 2
}
